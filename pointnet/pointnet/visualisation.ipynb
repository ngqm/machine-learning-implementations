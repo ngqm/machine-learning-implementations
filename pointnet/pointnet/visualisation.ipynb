{
 "cells": [
  {
   "cell_type": "code",
   "execution_count": null,
   "metadata": {},
   "outputs": [],
   "source": [
    "import torch\n",
    "from dataloaders.shapenet_partseg import ShapeNetPartSegDataset\n",
    "import numpy as np\n",
    "import matplotlib.pyplot as plt\n",
    "\n",
    "%load_ext autoreload\n",
    "%autoreload 2"
   ]
  },
  {
   "cell_type": "code",
   "execution_count": null,
   "metadata": {},
   "outputs": [],
   "source": [
    "ds = ShapeNetPartSegDataset('train', 'data')\n"
   ]
  },
  {
   "cell_type": "code",
   "execution_count": null,
   "metadata": {},
   "outputs": [],
   "source": [
    "def vis_pc(pc, label=None):\n",
    "    \"\"\"\n",
    "    pc: numpy [num_points, 3]\n",
    "    label: Optional(numpy) [num_points]\n",
    "    \"\"\"\n",
    "    \n",
    "    # normalize pc\n",
    "    m = pc.mean(0)\n",
    "    pc = pc - m\n",
    "    s = np.max(np.sqrt(np.sum(pc**2, -1)))\n",
    "    pc = pc / s\n",
    "    \n",
    "    fig = plt.figure(figsize=(5,5))\n",
    "    ax = fig.add_subplot(111, projection=\"3d\")\n",
    "    \n",
    "    if label is not None:\n",
    "        ax.scatter(pc[:,0], pc[:,2], pc[:,1], c=label)\n",
    "    else:\n",
    "        ax.scatter(pc[:,0], pc[:,2], pc[:,1])\n",
    "    \n",
    "    # set the range of axes\n",
    "    ax.set_xlim(-.7,.7)\n",
    "    ax.set_ylim(-.7,.7)\n",
    "    ax.set_zlim(-.7,.7)   \n",
    "    \n",
    "    # set the view point\n",
    "    ax.view_init(elev=30, azim=150)\n",
    "    \n",
    "    # turn off the axes\n",
    "    # ax.axis(\"off\")"
   ]
  },
  {
   "cell_type": "code",
   "execution_count": null,
   "metadata": {},
   "outputs": [],
   "source": [
    "idx = 0\n",
    "pc, plabel, clabel = ds[idx]\n",
    "pc = pc.numpy(); plabel = plabel.numpy()\n",
    "vis_pc(pc, plabel)"
   ]
  },
  {
   "cell_type": "code",
   "execution_count": null,
   "metadata": {},
   "outputs": [],
   "source": [
    "idx = 1\n",
    "pc, plabel, clabel = ds[idx]\n",
    "pc = pc.numpy(); plabel = plabel.numpy()\n",
    "vis_pc(pc, plabel)"
   ]
  },
  {
   "cell_type": "code",
   "execution_count": null,
   "metadata": {},
   "outputs": [],
   "source": [
    "idx = 10\n",
    "pc, plabel, clabel = ds[idx]\n",
    "pc = pc.numpy(); plabel = plabel.numpy()\n",
    "vis_pc(pc, plabel)"
   ]
  }
 ],
 "metadata": {
  "language_info": {
   "name": "python"
  }
 },
 "nbformat": 4,
 "nbformat_minor": 2
}
