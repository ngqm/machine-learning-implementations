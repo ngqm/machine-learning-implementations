{
 "cells": [
  {
   "cell_type": "markdown",
   "metadata": {},
   "source": [
    "# SDE"
   ]
  },
  {
   "cell_type": "markdown",
   "metadata": {},
   "source": [
    "We import libraries and visualise target and prior distributions."
   ]
  },
  {
   "cell_type": "code",
   "execution_count": null,
   "metadata": {},
   "outputs": [],
   "source": [
    "%load_ext autoreload\n",
    "%autoreload 2\n",
    "\n",
    "from dataset import TwoDimDataClass\n",
    "import matplotlib.pyplot as plt\n",
    "import matplotlib.animation as animation\n",
    "import numpy as np\n",
    "# deep learning\n",
    "import torch\n",
    "import torch.nn as nn\n",
    "import torch.nn.functional as F\n",
    "from setup import device  # choose which device to use in setup.py\n",
    "\n",
    "# misc\n",
    "from tqdm import tqdm\n",
    "\n",
    "target_ds = TwoDimDataClass(dataset_type='swiss_roll', \n",
    "                            N=1000000, \n",
    "                            batch_size=256)\n",
    "\n",
    "# target_ds = TwoDimDataClass(dataset_type='moon', \n",
    "#                             N=1000000, \n",
    "#                             batch_size=1000)\n",
    "\n",
    "prior_ds = TwoDimDataClass(dataset_type='gaussian_centered',\n",
    "                           N=1000000,\n",
    "                           batch_size=1000)\n",
    "\n",
    "Ntest = 500\n",
    "sample_f = target_ds[0:Ntest]\n",
    "sample_b = prior_ds[0:Ntest]\n",
    "\n",
    "fig = plt.figure()\n",
    "ax = fig.add_subplot(1, 1, 1)\n",
    "ax.scatter(sample_f[:, 0], sample_f[:, 1], alpha=0.6)\n",
    "ax.scatter(sample_b[:, 0], sample_b[:, 1], alpha=0.6)\n",
    "ax.grid(False)\n",
    "ax.set_aspect('equal', adjustable='box')\n",
    "strtitle = \"Target and Prior datasets\"\n",
    "ax.set_title(strtitle)\n",
    "ax.legend(['Datasest (target)', 'Dataset (prior)'])"
   ]
  },
  {
   "cell_type": "markdown",
   "metadata": {},
   "source": [
    "We import three SDE instances, Ornstein-Uhlenbeck (OU), Variance-Preserving (VP), and Variance Exploding (VE)."
   ]
  },
  {
   "cell_type": "code",
   "execution_count": null,
   "metadata": {},
   "outputs": [],
   "source": [
    "from sde import OU, VPSDE, VESDE\n",
    "\n",
    "ou = OU(N=1000, T=1)\n",
    "vp = VPSDE(N=1000, T=1)\n",
    "ve = VESDE(N=1000, T=1)"
   ]
  },
  {
   "cell_type": "markdown",
   "metadata": {},
   "source": [
    "## Visualising the forward process"
   ]
  },
  {
   "cell_type": "code",
   "execution_count": null,
   "metadata": {},
   "outputs": [],
   "source": [
    "# plot the forward diffusion\n",
    "\n",
    "def plot_mean_and_std(sde, name):\n",
    "\n",
    "    cmap = plt.get_cmap('viridis')\n",
    "\n",
    "    n_arr = 1000\n",
    "    plot_Ntest = 100\n",
    "\n",
    "    t_arr = np.linspace(0, sde.T, n_arr)\n",
    "    mean_arr = np.zeros((n_arr, 1))\n",
    "    std_arr  = np.zeros((n_arr, 1))\n",
    "\n",
    "    analytic_mean_arr = np.zeros((n_arr, 1))\n",
    "    analytic_std_arr  = np.zeros((n_arr, 1))\n",
    "\n",
    "    fig = plt.figure(figsize=(20,5), dpi=80)\n",
    "    ax = fig.add_subplot(1, 4, 1)\n",
    "    ax_final = fig.add_subplot(1, 4, 2)\n",
    "    ax.set_ylim(-4,4)\n",
    "    ax.set_xlim(-4,4)\n",
    "    ax.set_title(\"forward trajectory\")\n",
    "    ax_final.set_ylim(-4,4)\n",
    "    ax_final.set_xlim(-4,4)\n",
    "    ax_final.set_title(\"final samples\")\n",
    "\n",
    "    for k, tt in enumerate(tqdm(t_arr)):\n",
    "        x0 = target_ds[range(plot_Ntest)].float()\n",
    "        t = torch.zeros((x0.shape[0],)) + tt\n",
    "        mean, std = sde.marginal_prob(t, x0)\n",
    "        z = torch.randn(mean.shape).to(device)\n",
    "        xt = mean + std * z\n",
    "\n",
    "        xt = xt.cpu().detach().numpy()\n",
    "\n",
    "        mean_arr[k] = (xt.mean(axis=0)**2).sum()\n",
    "        std_arr[k]  = ((xt.std(axis=0) - 1)**2).sum()\n",
    "\n",
    "        ax.scatter(xt[:, 0], xt[:, 1], alpha=0.4, color=cmap(tt/t_arr[-1]))\n",
    "        if (k == t_arr.shape[0]-1):\n",
    "            ax_final.scatter(xt[:, 0], xt[:, 1], alpha=0.9, color=cmap(tt/t_arr[-1]))\n",
    "\n",
    "\n",
    "    ax.grid(False)\n",
    "    ax.set_aspect('auto', adjustable='box')\n",
    "    ax_final.grid(False)\n",
    "    ax_final.set_aspect('auto', adjustable='box')\n",
    "\n",
    "    ax = fig.add_subplot(1, 4, 3)\n",
    "    plt.plot(t_arr, np.abs(mean_arr))\n",
    "    plt.title(\"Distance of mean from 0\")\n",
    "    ax.grid(False)\n",
    "    ax = fig.add_subplot(1, 4, 4)\n",
    "    plt.plot(t_arr, std_arr)\n",
    "    plt.title(\"Distance of standard deviation from 1\")\n",
    "    ax.grid(False)\n",
    "    plt.savefig(f\"./mean_std_{name}.jpg\")"
   ]
  },
  {
   "cell_type": "code",
   "execution_count": null,
   "metadata": {},
   "outputs": [],
   "source": [
    "plot_mean_and_std(ou, 'ou')\n",
    "plot_mean_and_std(vp, 'vp')\n",
    "plot_mean_and_std(ve, 've')"
   ]
  },
  {
   "cell_type": "code",
   "execution_count": null,
   "metadata": {},
   "outputs": [],
   "source": [
    "# animate the diffusion process\n",
    "\n",
    "def animate_diffusion(sdes, names):\n",
    "\n",
    "    n_arr = 1000\n",
    "    plot_Ntest = 100\n",
    "\n",
    "    fig = plt.figure(figsize=(15,5), dpi=80)\n",
    "    scats = []\n",
    "    data = []\n",
    "    for i, sde, name in zip(range(len(sdes)), sdes, names):\n",
    "        \n",
    "        t_arr = np.linspace(0, sde.T, n_arr)\n",
    "\n",
    "        ax = fig.add_subplot(1, 3, i+1)\n",
    "        ax.set_ylim(-4,4)\n",
    "        ax.set_xlim(-4,4)\n",
    "        ax.set_title(f\"{name}\")\n",
    "        scat = ax.scatter([], [], alpha=0.4)\n",
    "        scats.append(scat)\n",
    "\n",
    "        points = []\n",
    "        for k, tt in enumerate(tqdm(t_arr)):\n",
    "            x0 = target_ds[range(plot_Ntest)].float()\n",
    "            t = torch.zeros((x0.shape[0],)) + tt\n",
    "            mean, std = sde.marginal_prob(t, x0)\n",
    "            z = torch.randn(mean.shape)\n",
    "            xt = mean + std * z\n",
    "            points.append(xt.numpy())\n",
    "        data.append(points)\n",
    "\n",
    "        ax.grid(False)\n",
    "        ax.set_aspect('auto', adjustable='box')\n",
    "\n",
    "    ani = animation.FuncAnimation(fig, update, frames=n_arr, fargs=(data, scats))\n",
    "    ani.save(f\"./diffusion.gif\", fps=120)\n",
    "\n",
    "def update(k, data, scats):\n",
    "    for scat, points in zip(scats, data):\n",
    "        scat.set_offsets(points[k])\n",
    "    plt.suptitle(f\"Diffusion process (t={k+1}/{1000})\")\n",
    "    return scats, "
   ]
  },
  {
   "cell_type": "markdown",
   "metadata": {},
   "source": [
    "## Learning the score"
   ]
  },
  {
   "cell_type": "code",
   "execution_count": null,
   "metadata": {},
   "outputs": [],
   "source": [
    "from network import SimpleNet \n",
    "from torch.optim import Adam\n",
    "from train import get_sde_step_fn, train_diffusion\n",
    "from loss import DSMLoss, ISMLoss\n",
    "from copy import deepcopy\n",
    "\n",
    "def train(sde):\n",
    "    # setup hyperparameters\n",
    "    model = SimpleNet(in_dim=2, enc_shapes=[512,512,512,512], dec_shapes=[512,512,512], z_dim=100).to(device)\n",
    "    loss_fn = DSMLoss(alpha=0.3, diff_weight=True)\n",
    "    # loss_fn = ISMLoss()\n",
    "    optimizer = Adam(model.parameters(), lr=1e-5)\n",
    "    ema = deepcopy(model)\n",
    "    step_fn = get_sde_step_fn(model=model, opt=optimizer, ema=ema, sde=sde, loss_fn=loss_fn)\n",
    "    N_steps = 10000\n",
    "    # N_steps = 2000\n",
    "    # train\n",
    "    train_diffusion(target_ds.get_dataloader(), step_fn, N_steps, plot=True)\n",
    "    return ema"
   ]
  },
  {
   "cell_type": "code",
   "execution_count": null,
   "metadata": {},
   "outputs": [],
   "source": [
    "ou_model = train(ou)"
   ]
  },
  {
   "cell_type": "code",
   "execution_count": null,
   "metadata": {},
   "outputs": [],
   "source": [
    "ve_model = train(ve)"
   ]
  },
  {
   "cell_type": "code",
   "execution_count": null,
   "metadata": {},
   "outputs": [],
   "source": [
    "ve_model = train(ve)"
   ]
  },
  {
   "cell_type": "markdown",
   "metadata": {},
   "source": [
    "## Sampling and visualising the backward process"
   ]
  },
  {
   "cell_type": "code",
   "execution_count": null,
   "metadata": {},
   "outputs": [],
   "source": [
    "from sampling import Sampler\n",
    "\n",
    "def sample(sde, model):\n",
    "    sde_backward = sde.reverse(model)\n",
    "    sampler = Sampler(eps=1e-3)\n",
    "    sampler_fn = sampler.get_sampling_fn(sde_backward, prior_ds)\n",
    "    plot_Ntest = 200\n",
    "    out, ntot, timesteps, x_hist = sampler_fn(N_samples=plot_Ntest)\n",
    "    return out, ntot, timesteps, x_hist"
   ]
  },
  {
   "cell_type": "code",
   "execution_count": null,
   "metadata": {},
   "outputs": [],
   "source": [
    "out, ntot, timesteps, x_hist = sample(ou, ou_model)"
   ]
  },
  {
   "cell_type": "code",
   "execution_count": null,
   "metadata": {},
   "outputs": [],
   "source": [
    "def plot_backward(out, ntot, timesteps, x_hist, sde, model):\n",
    "\n",
    "    plot_Ntest = 200\n",
    "\n",
    "    fig = plt.figure(figsize=(15, 5), dpi=50)\n",
    "    ax = fig.add_subplot(1, 3, 1)\n",
    "    t_arr = np.linspace(0, sde.T, sde.N)\n",
    "\n",
    "    cmap = plt.get_cmap('viridis')\n",
    "\n",
    "    x_hist = x_hist.cpu().numpy()\n",
    "    for k, tt in enumerate(t_arr):\n",
    "        outk = x_hist[k]\n",
    "        ax.scatter(outk[:, 0], outk[:, 1], alpha=0.3, color=cmap(tt/t_arr[-1]))\n",
    "    ax.grid(False)\n",
    "    # ax.xlim(-0.5, 0.5)\n",
    "    # ax.ylim(-5, 5)\n",
    "    ax.set_aspect('auto', adjustable='box')\n",
    "    strtitle = \"backward trajectory\"\n",
    "    ax.set_title(strtitle)\n",
    "\n",
    "    xmin, xmax = -4, 4\n",
    "    ymin, ymax = -4, 4\n",
    "    xx, yy = np.mgrid[xmin:xmax:20j, ymin:ymax:20j]\n",
    "    # fig = plt.figure()\n",
    "    t0 = 0.05\n",
    "    x = np.concatenate(\n",
    "        (xx.reshape(-1, 1), yy.reshape(-1, 1)), axis=-1)\n",
    "    t = np.zeros((x.shape[0],)) + t0\n",
    "\n",
    "    t_tensor = torch.tensor(t).float()\n",
    "    x_tensor = torch.tensor(x).float()\n",
    "\n",
    "    with torch.no_grad():\n",
    "        out = model(t_tensor, x_tensor)\n",
    "\n",
    "    out = out.cpu().numpy()\n",
    "\n",
    "    u = out[:, 0].reshape(xx.shape)\n",
    "    v = out[:, 1].reshape(yy.shape)\n",
    "    ax = fig.add_subplot(1, 3, 2)\n",
    "    ax.quiver(xx, yy, u, v)\n",
    "    ax.set_aspect('auto', adjustable='box')\n",
    "    strtitle = f\"score at time t={t0}\"\n",
    "    ax.set_title(strtitle)\n",
    "\n",
    "    out_true = target_ds[range(0, plot_Ntest)]\n",
    "    # fig = plt.figure()\n",
    "    ax = fig.add_subplot(1, 3, 3)\n",
    "    ax.scatter(x_hist[-1, :, 0], x_hist[-1, :, 1], alpha=0.6)\n",
    "    ax.scatter(out_true[:, 0], out_true[:, 1], alpha=0.6)\n",
    "    ax.grid(False)\n",
    "    ax.set_aspect('auto', adjustable='box')\n",
    "    strtitle = \"final backward particles\"\n",
    "    ax.set_title(strtitle)\n",
    "    plt.savefig(\"./task1_output.jpg\")"
   ]
  },
  {
   "cell_type": "code",
   "execution_count": null,
   "metadata": {},
   "outputs": [],
   "source": [
    "plot_backward(out, ntot, timesteps, x_hist, ou, ou_model)"
   ]
  },
  {
   "cell_type": "code",
   "execution_count": null,
   "metadata": {},
   "outputs": [],
   "source": [
    "def animate_scatter(x_hist, target_ds):\n",
    "\n",
    "    out_true = target_ds[range(0, 200)]\n",
    "\n",
    "    fig = plt.figure(figsize=(5,5), dpi=80)\n",
    "    scats = []\n",
    "    data = []\n",
    "\n",
    "    ax = fig.add_subplot(1, 1, 1)\n",
    "    ax.set_ylim(-4,4)\n",
    "    ax.set_xlim(-4,4)\n",
    "    scat = ax.scatter([], [], alpha=0.6)\n",
    "    ax.scatter(out_true[:, 0], out_true[:, 1], alpha=0.6)\n",
    "\n",
    "    data = x_hist\n",
    "\n",
    "    ax.grid(False)\n",
    "    ax.set_aspect('auto', adjustable='box')\n",
    "\n",
    "    ani = animation.FuncAnimation(fig, update, frames=len(x_hist)//6, fargs=(data, scat))\n",
    "    ani.save(f\"./backward_diffusion.gif\", fps=120)\n",
    "\n",
    "def update(k, data, scat):\n",
    "    scat.set_offsets(data[6*k+5])\n",
    "    plt.suptitle(f\"Backward diffusion process (t={6*k+5}/{1000})\")\n",
    "    return scat,"
   ]
  },
  {
   "cell_type": "code",
   "execution_count": null,
   "metadata": {},
   "outputs": [],
   "source": [
    "animate_scatter(x_hist, target_ds)"
   ]
  },
  {
   "cell_type": "markdown",
   "metadata": {},
   "source": [
    "## Evaluating"
   ]
  },
  {
   "cell_type": "code",
   "execution_count": null,
   "metadata": {},
   "outputs": [],
   "source": [
    "# from pytorch3d.loss.chamfer import chamfer_distance\n",
    "from chamferdist import ChamferDistance\n",
    "chamfer_distance = ChamferDistance()\n",
    "from sampling import Sampler\n",
    "N_test = 10000"
   ]
  },
  {
   "cell_type": "code",
   "execution_count": null,
   "metadata": {},
   "outputs": [],
   "source": [
    "def evaluate(sde, model):\n",
    "\n",
    "    sde_backward = sde.reverse(model)\n",
    "    sampler = Sampler(eps=1e-3)\n",
    "    sampler_fn = sampler.get_sampling_fn(sde_backward, prior_ds)\n",
    "\n",
    "    pc_gen, ntot, timesteps, x_hist = sampler_fn(N_samples=N_test)\n",
    "    # pc_gen = 8*torch.rand(10000,2) - 4\n",
    "    pc_ref = target_ds[:10000]\n",
    "\n",
    "    pc_gen = pc_gen.reshape(100, 100, -1).to(device)\n",
    "    pc_ref = pc_ref.reshape(100, 100, -1).to(device)\n",
    "    print(\"CD: \",  chamfer_distance(pc_gen, pc_ref)/len(pc_gen))"
   ]
  },
  {
   "cell_type": "code",
   "execution_count": null,
   "metadata": {},
   "outputs": [],
   "source": [
    "evaluate(ou, ou_model)"
   ]
  },
  {
   "cell_type": "code",
   "execution_count": null,
   "metadata": {},
   "outputs": [],
   "source": []
  }
 ],
 "metadata": {
  "language_info": {
   "name": "python"
  }
 },
 "nbformat": 4,
 "nbformat_minor": 2
}
